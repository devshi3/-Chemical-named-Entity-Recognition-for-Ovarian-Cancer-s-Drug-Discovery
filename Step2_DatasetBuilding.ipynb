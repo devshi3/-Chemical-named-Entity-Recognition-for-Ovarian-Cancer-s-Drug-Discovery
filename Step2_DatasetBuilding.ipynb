{
 "cells": [
  {
   "cell_type": "code",
   "execution_count": 1,
   "id": "a9162b18",
   "metadata": {},
   "outputs": [],
   "source": [
    "import chemdataextractor"
   ]
  },
  {
   "cell_type": "code",
   "execution_count": 2,
   "id": "13bf54b6",
   "metadata": {},
   "outputs": [],
   "source": [
    "from chemdataextractor import Document"
   ]
  },
  {
   "cell_type": "code",
   "execution_count": 3,
   "id": "c71033a3",
   "metadata": {},
   "outputs": [],
   "source": [
    "from chemdataextractor.doc import Sentence"
   ]
  },
  {
   "cell_type": "code",
   "execution_count": 4,
   "id": "d3e406ad",
   "metadata": {},
   "outputs": [],
   "source": [
    "import pubchempy as pcp"
   ]
  },
  {
   "cell_type": "code",
   "execution_count": 5,
   "id": "0067cb6b",
   "metadata": {},
   "outputs": [],
   "source": [
    "import pandas as pd"
   ]
  },
  {
   "cell_type": "code",
   "execution_count": 6,
   "id": "54050abd",
   "metadata": {},
   "outputs": [],
   "source": [
    "import re"
   ]
  },
  {
   "cell_type": "code",
   "execution_count": 7,
   "id": "30cf0ed7",
   "metadata": {},
   "outputs": [],
   "source": [
    "from tika import parser\n",
    "raw1 = parser.from_file('ovarian_cancer.pdf')\n",
    "raw2 = parser.from_file('ovarian_cancer2.pdf')\n",
    "raw3 = parser.from_file('ovarian_cancer3.pdf')\n",
    "raw4 = parser.from_file('ovarian_cancer4.pdf')\n",
    "raw5 = parser.from_file('ovarian_cancer5.pdf')\n",
    "raw6 = parser.from_file('ovarian_cancer6.pdf')\n",
    "raw7 = parser.from_file('OvarianPaper.pdf')"
   ]
  },
  {
   "cell_type": "code",
   "execution_count": 8,
   "id": "ddba7e41",
   "metadata": {},
   "outputs": [],
   "source": [
    "doc=raw1['content']+raw2['content']+raw3['content']+raw4['content']+raw5['content']+raw6['content']+raw7['content']"
   ]
  },
  {
   "cell_type": "code",
   "execution_count": 9,
   "id": "3a3db272",
   "metadata": {},
   "outputs": [],
   "source": [
    "df=pd.DataFrame(doc.split(\".\"))\n",
    "df.columns=['Sentence #']"
   ]
  },
  {
   "cell_type": "code",
   "execution_count": 10,
   "id": "bc674a0b",
   "metadata": {},
   "outputs": [
    {
     "data": {
      "text/html": [
       "<div>\n",
       "<style scoped>\n",
       "    .dataframe tbody tr th:only-of-type {\n",
       "        vertical-align: middle;\n",
       "    }\n",
       "\n",
       "    .dataframe tbody tr th {\n",
       "        vertical-align: top;\n",
       "    }\n",
       "\n",
       "    .dataframe thead th {\n",
       "        text-align: right;\n",
       "    }\n",
       "</style>\n",
       "<table border=\"1\" class=\"dataframe\">\n",
       "  <thead>\n",
       "    <tr style=\"text-align: right;\">\n",
       "      <th></th>\n",
       "      <th>Sentence #</th>\n",
       "    </tr>\n",
       "  </thead>\n",
       "  <tbody>\n",
       "    <tr>\n",
       "      <th>0</th>\n",
       "      <td>\\n\\n\\n\\n\\n\\n\\n\\n\\n\\n\\n\\n\\n\\n\\n\\n\\n\\n\\n\\n\\n\\n\\n...</td>\n",
       "    </tr>\n",
       "    <tr>\n",
       "      <th>1</th>\n",
       "      <td>Armstrong, MD\\n\\n2\\n\\nAbstract\\nEpithelial ov...</td>\n",
       "    </tr>\n",
       "    <tr>\n",
       "      <th>2</th>\n",
       "      <td>Screening strategies using ultrasound and the...</td>\n",
       "    </tr>\n",
       "    <tr>\n",
       "      <th>3</th>\n",
       "      <td>Women\\n\\nwho have inherited a deleterious mut...</td>\n",
       "    </tr>\n",
       "    <tr>\n",
       "      <th>4</th>\n",
       "      <td>Other less common and less well-defined genet...</td>\n",
       "    </tr>\n",
       "  </tbody>\n",
       "</table>\n",
       "</div>"
      ],
      "text/plain": [
       "                                          Sentence #\n",
       "0  \\n\\n\\n\\n\\n\\n\\n\\n\\n\\n\\n\\n\\n\\n\\n\\n\\n\\n\\n\\n\\n\\n\\n...\n",
       "1   Armstrong, MD\\n\\n2\\n\\nAbstract\\nEpithelial ov...\n",
       "2   Screening strategies using ultrasound and the...\n",
       "3   Women\\n\\nwho have inherited a deleterious mut...\n",
       "4   Other less common and less well-defined genet..."
      ]
     },
     "execution_count": 10,
     "metadata": {},
     "output_type": "execute_result"
    }
   ],
   "source": [
    "df.head()"
   ]
  },
  {
   "cell_type": "code",
   "execution_count": 11,
   "id": "7e8b5e34",
   "metadata": {},
   "outputs": [
    {
     "data": {
      "text/plain": [
       "(7268, 1)"
      ]
     },
     "execution_count": 11,
     "metadata": {},
     "output_type": "execute_result"
    }
   ],
   "source": [
    "df.shape"
   ]
  },
  {
   "cell_type": "code",
   "execution_count": 12,
   "id": "a0a94c68",
   "metadata": {},
   "outputs": [
    {
     "data": {
      "text/plain": [
       "'!\"#$%&\\'()*+,-./:;<=>?@[\\\\]^_`{|}~'"
      ]
     },
     "execution_count": 12,
     "metadata": {},
     "output_type": "execute_result"
    }
   ],
   "source": [
    "import string\n",
    "string.punctuation"
   ]
  },
  {
   "cell_type": "code",
   "execution_count": 13,
   "id": "24d8ec80",
   "metadata": {},
   "outputs": [],
   "source": [
    "import nltk\n",
    "stopwords=nltk.corpus.stopwords.words('english')"
   ]
  },
  {
   "cell_type": "code",
   "execution_count": 14,
   "id": "8ef8ef81",
   "metadata": {},
   "outputs": [],
   "source": [
    "from nltk.stem import WordNetLemmatizer\n",
    "wordnet_lemmatizer=WordNetLemmatizer()"
   ]
  },
  {
   "cell_type": "code",
   "execution_count": 15,
   "id": "2e044d7e",
   "metadata": {},
   "outputs": [],
   "source": [
    "def clean(text):\n",
    "    #clean_text=\"\".join([i for i in text if i not in string.punctuation])\n",
    "    clean_text=re.sub(\"\\n\",\" \",text)\n",
    "    clean_text=\"\".join([wordnet_lemmatizer.lemmatize(i) for i in clean_text])\n",
    "    clean_text=\"\".join(i if i not in string.punctuation else \"\" for i in clean_text)\n",
    "    return clean_text.strip()"
   ]
  },
  {
   "cell_type": "code",
   "execution_count": 16,
   "id": "4be53f41",
   "metadata": {},
   "outputs": [],
   "source": [
    "df['clean']=df[\"Sentence #\"].apply(clean)"
   ]
  },
  {
   "cell_type": "code",
   "execution_count": 17,
   "id": "c4989a10",
   "metadata": {
    "scrolled": true
   },
   "outputs": [
    {
     "data": {
      "text/html": [
       "<div>\n",
       "<style scoped>\n",
       "    .dataframe tbody tr th:only-of-type {\n",
       "        vertical-align: middle;\n",
       "    }\n",
       "\n",
       "    .dataframe tbody tr th {\n",
       "        vertical-align: top;\n",
       "    }\n",
       "\n",
       "    .dataframe thead th {\n",
       "        text-align: right;\n",
       "    }\n",
       "</style>\n",
       "<table border=\"1\" class=\"dataframe\">\n",
       "  <thead>\n",
       "    <tr style=\"text-align: right;\">\n",
       "      <th></th>\n",
       "      <th>Sentence #</th>\n",
       "      <th>clean</th>\n",
       "    </tr>\n",
       "  </thead>\n",
       "  <tbody>\n",
       "    <tr>\n",
       "      <th>0</th>\n",
       "      <td>\\n\\n\\n\\n\\n\\n\\n\\n\\n\\n\\n\\n\\n\\n\\n\\n\\n\\n\\n\\n\\n\\n\\n...</td>\n",
       "      <td>Recent progress in the diagnosis and treatment...</td>\n",
       "    </tr>\n",
       "    <tr>\n",
       "      <th>1</th>\n",
       "      <td>Armstrong, MD\\n\\n2\\n\\nAbstract\\nEpithelial ov...</td>\n",
       "      <td>Armstrong MD  2  Abstract Epithelial ovarian c...</td>\n",
       "    </tr>\n",
       "    <tr>\n",
       "      <th>2</th>\n",
       "      <td>Screening strategies using ultrasound and the...</td>\n",
       "      <td>Screening strategies using ultrasound and the ...</td>\n",
       "    </tr>\n",
       "    <tr>\n",
       "      <th>3</th>\n",
       "      <td>Women\\n\\nwho have inherited a deleterious mut...</td>\n",
       "      <td>Women  who have inherited a deleterious mutati...</td>\n",
       "    </tr>\n",
       "    <tr>\n",
       "      <th>4</th>\n",
       "      <td>Other less common and less well-defined genet...</td>\n",
       "      <td>Other less common and less welldefined genetic...</td>\n",
       "    </tr>\n",
       "  </tbody>\n",
       "</table>\n",
       "</div>"
      ],
      "text/plain": [
       "                                          Sentence #  \\\n",
       "0  \\n\\n\\n\\n\\n\\n\\n\\n\\n\\n\\n\\n\\n\\n\\n\\n\\n\\n\\n\\n\\n\\n\\n...   \n",
       "1   Armstrong, MD\\n\\n2\\n\\nAbstract\\nEpithelial ov...   \n",
       "2   Screening strategies using ultrasound and the...   \n",
       "3   Women\\n\\nwho have inherited a deleterious mut...   \n",
       "4   Other less common and less well-defined genet...   \n",
       "\n",
       "                                               clean  \n",
       "0  Recent progress in the diagnosis and treatment...  \n",
       "1  Armstrong MD  2  Abstract Epithelial ovarian c...  \n",
       "2  Screening strategies using ultrasound and the ...  \n",
       "3  Women  who have inherited a deleterious mutati...  \n",
       "4  Other less common and less welldefined genetic...  "
      ]
     },
     "execution_count": 17,
     "metadata": {},
     "output_type": "execute_result"
    }
   ],
   "source": [
    "df.head()"
   ]
  },
  {
   "cell_type": "code",
   "execution_count": 18,
   "id": "cfdd22d0",
   "metadata": {},
   "outputs": [],
   "source": [
    "dictionary=pd.read_excel(\"OvarianCancer.xlsx\")\n",
    "\n",
    "def get_cid(arr):\n",
    "    for i in arr:\n",
    "            val=pcp.get_cids(i,\"name\")\n",
    "            if val!=[]:\n",
    "                if val[0] in list(df.CID):\n",
    "                    return str(val[0])\n",
    "    return(None)"
   ]
  },
  {
   "cell_type": "code",
   "execution_count": 104,
   "id": "91fac62f",
   "metadata": {},
   "outputs": [],
   "source": [
    "def tokens_n_tags(text):\n",
    "    l=[tn for tn in text.split() if tn not in stopwords]\n",
    "    m1=pd.DataFrame((rec[\"names\"],get_cid(rec[\"names\"])) for rec in Document(text).records.serialize() if \"names\" in rec.keys())\n",
    "    m1.dropna(inplace=True)\n",
    "    if not m1.empty:\n",
    "        m1.columns=[\"Name\",\"CID\"]\n",
    "        m1=m1.apply(lambda x: x.explode() if x.name in [\"Name\"] else x)\n",
    "        list_m1=list(m1[\"Name\"])\n",
    "    else:\n",
    "        return l,[\"O\" for i in range(len(l))]\n",
    "    tokens,tags=[],[]\n",
    "    i=0\n",
    "    while i<len(l):\n",
    "        flag=0\n",
    "        tkn=l[i]\n",
    "        for t in list_m1:\n",
    "            if tkn in t:\n",
    "                ln=len(t.split())\n",
    "                tokens.append(t)\n",
    "                if tkn.isupper():\n",
    "                    tags.append(\"Compund-Abv\")\n",
    "                else:\n",
    "                    tags.append(\"Compund-Name\")\n",
    "                i=i+ln\n",
    "                flag=1\n",
    "                break    \n",
    "        if flag==0:\n",
    "            tokens.append(tkn)\n",
    "            tags.append(\"O\")\n",
    "            i=i+1\n",
    "    return tokens,tags"
   ]
  },
  {
   "cell_type": "code",
   "execution_count": 101,
   "id": "805b5445",
   "metadata": {},
   "outputs": [],
   "source": [
    "text=df.loc[441,\"clean\"]"
   ]
  },
  {
   "cell_type": "code",
   "execution_count": 102,
   "id": "2c96c8c7",
   "metadata": {},
   "outputs": [
    {
     "data": {
      "text/plain": [
       "'94  Gemcitabine has been studied as a single agent in  platinumresistant disease with response rates of  11 to 17'"
      ]
     },
     "execution_count": 102,
     "metadata": {},
     "output_type": "execute_result"
    }
   ],
   "source": [
    "text"
   ]
  },
  {
   "cell_type": "code",
   "execution_count": 99,
   "id": "89f41a0a",
   "metadata": {},
   "outputs": [
    {
     "name": "stdout",
     "output_type": "stream",
     "text": [
      "0 94\n",
      "1 Gemcitabine\n",
      "2 Gemcitabine 1\n",
      "2 studied\n",
      "3 single\n",
      "4 agent\n",
      "5 platinumresistant\n",
      "6 disease\n",
      "7 response\n",
      "8 rates\n",
      "9 11\n",
      "10 17\n"
     ]
    },
    {
     "data": {
      "text/plain": [
       "(['94',\n",
       "  'Gemcitabine',\n",
       "  'studied',\n",
       "  'single',\n",
       "  'agent',\n",
       "  'platinumresistant',\n",
       "  'disease',\n",
       "  'response',\n",
       "  'rates',\n",
       "  '11',\n",
       "  '17'],\n",
       " ['O', 'Compund-Name', 'O', 'O', 'O', 'O', 'O', 'O', 'O', 'O', 'O'])"
      ]
     },
     "execution_count": 99,
     "metadata": {},
     "output_type": "execute_result"
    }
   ],
   "source": [
    "tokens_n_tags(text)"
   ]
  },
  {
   "cell_type": "code",
   "execution_count": 105,
   "id": "3834546e",
   "metadata": {},
   "outputs": [],
   "source": [
    "tagntkn=df[\"clean\"].apply(lambda x:tokens_n_tags(x))"
   ]
  },
  {
   "cell_type": "code",
   "execution_count": 106,
   "id": "e4fa8da9",
   "metadata": {},
   "outputs": [],
   "source": [
    "df[\"Word\"]=[i[0] for i in tagntkn]\n",
    "df[\"Tags\"]=[i[1] for i in tagntkn]"
   ]
  },
  {
   "cell_type": "code",
   "execution_count": 107,
   "id": "8716dbb3",
   "metadata": {},
   "outputs": [
    {
     "data": {
      "text/html": [
       "<div>\n",
       "<style scoped>\n",
       "    .dataframe tbody tr th:only-of-type {\n",
       "        vertical-align: middle;\n",
       "    }\n",
       "\n",
       "    .dataframe tbody tr th {\n",
       "        vertical-align: top;\n",
       "    }\n",
       "\n",
       "    .dataframe thead th {\n",
       "        text-align: right;\n",
       "    }\n",
       "</style>\n",
       "<table border=\"1\" class=\"dataframe\">\n",
       "  <thead>\n",
       "    <tr style=\"text-align: right;\">\n",
       "      <th></th>\n",
       "      <th>Sentence #</th>\n",
       "      <th>clean</th>\n",
       "      <th>Word</th>\n",
       "      <th>Tags</th>\n",
       "    </tr>\n",
       "  </thead>\n",
       "  <tbody>\n",
       "    <tr>\n",
       "      <th>0</th>\n",
       "      <td>\\n\\n\\n\\n\\n\\n\\n\\n\\n\\n\\n\\n\\n\\n\\n\\n\\n\\n\\n\\n\\n\\n\\n...</td>\n",
       "      <td>Recent progress in the diagnosis and treatment...</td>\n",
       "      <td>[Recent, progress, diagnosis, treatment, ovari...</td>\n",
       "      <td>[O, O, O, O, O, O, O, O, O, O, O, O, O, O, O, ...</td>\n",
       "    </tr>\n",
       "    <tr>\n",
       "      <th>1</th>\n",
       "      <td>Armstrong, MD\\n\\n2\\n\\nAbstract\\nEpithelial ov...</td>\n",
       "      <td>Armstrong MD  2  Abstract Epithelial ovarian c...</td>\n",
       "      <td>[Armstrong, MD, 2, Abstract, Epithelial, ovari...</td>\n",
       "      <td>[O, O, O, O, O, O, O, O, O, O, O, O, O, O, O, ...</td>\n",
       "    </tr>\n",
       "    <tr>\n",
       "      <th>2</th>\n",
       "      <td>Screening strategies using ultrasound and the...</td>\n",
       "      <td>Screening strategies using ultrasound and the ...</td>\n",
       "      <td>[Screening, strategies, using, ultrasound, can...</td>\n",
       "      <td>[O, O, O, O, O, O, O, O, O, O, O, O, O, O, O, ...</td>\n",
       "    </tr>\n",
       "    <tr>\n",
       "      <th>3</th>\n",
       "      <td>Women\\n\\nwho have inherited a deleterious mut...</td>\n",
       "      <td>Women  who have inherited a deleterious mutati...</td>\n",
       "      <td>[Women, inherited, deleterious, mutation, BRCA...</td>\n",
       "      <td>[O, O, O, O, O, O, O, O, O, O, O, O, O, O, O, ...</td>\n",
       "    </tr>\n",
       "    <tr>\n",
       "      <th>4</th>\n",
       "      <td>Other less common and less well-defined genet...</td>\n",
       "      <td>Other less common and less welldefined genetic...</td>\n",
       "      <td>[Other, less, common, less, welldefined, genet...</td>\n",
       "      <td>[O, O, O, O, O, O, O, O, O, O, O, O, O, O, O, O]</td>\n",
       "    </tr>\n",
       "  </tbody>\n",
       "</table>\n",
       "</div>"
      ],
      "text/plain": [
       "                                          Sentence #  \\\n",
       "0  \\n\\n\\n\\n\\n\\n\\n\\n\\n\\n\\n\\n\\n\\n\\n\\n\\n\\n\\n\\n\\n\\n\\n...   \n",
       "1   Armstrong, MD\\n\\n2\\n\\nAbstract\\nEpithelial ov...   \n",
       "2   Screening strategies using ultrasound and the...   \n",
       "3   Women\\n\\nwho have inherited a deleterious mut...   \n",
       "4   Other less common and less well-defined genet...   \n",
       "\n",
       "                                               clean  \\\n",
       "0  Recent progress in the diagnosis and treatment...   \n",
       "1  Armstrong MD  2  Abstract Epithelial ovarian c...   \n",
       "2  Screening strategies using ultrasound and the ...   \n",
       "3  Women  who have inherited a deleterious mutati...   \n",
       "4  Other less common and less welldefined genetic...   \n",
       "\n",
       "                                                Word  \\\n",
       "0  [Recent, progress, diagnosis, treatment, ovari...   \n",
       "1  [Armstrong, MD, 2, Abstract, Epithelial, ovari...   \n",
       "2  [Screening, strategies, using, ultrasound, can...   \n",
       "3  [Women, inherited, deleterious, mutation, BRCA...   \n",
       "4  [Other, less, common, less, welldefined, genet...   \n",
       "\n",
       "                                                Tags  \n",
       "0  [O, O, O, O, O, O, O, O, O, O, O, O, O, O, O, ...  \n",
       "1  [O, O, O, O, O, O, O, O, O, O, O, O, O, O, O, ...  \n",
       "2  [O, O, O, O, O, O, O, O, O, O, O, O, O, O, O, ...  \n",
       "3  [O, O, O, O, O, O, O, O, O, O, O, O, O, O, O, ...  \n",
       "4   [O, O, O, O, O, O, O, O, O, O, O, O, O, O, O, O]  "
      ]
     },
     "execution_count": 107,
     "metadata": {},
     "output_type": "execute_result"
    }
   ],
   "source": [
    "df.head()"
   ]
  },
  {
   "cell_type": "code",
   "execution_count": 108,
   "id": "978dc7f6",
   "metadata": {},
   "outputs": [
    {
     "data": {
      "text/plain": [
       "7268"
      ]
     },
     "execution_count": 108,
     "metadata": {},
     "output_type": "execute_result"
    }
   ],
   "source": [
    "len(df)"
   ]
  },
  {
   "cell_type": "code",
   "execution_count": null,
   "id": "a30cdb91",
   "metadata": {},
   "outputs": [],
   "source": [
    "for i in range(len(df)):\n",
    "    if len(df.Tags[i])==df.Tags[i].count(\"O\"):\n",
    "        df.drop(i,inplace=True)"
   ]
  },
  {
   "cell_type": "code",
   "execution_count": null,
   "id": "d63ff621",
   "metadata": {},
   "outputs": [],
   "source": [
    "len(df)"
   ]
  },
  {
   "cell_type": "code",
   "execution_count": null,
   "id": "b3062e1a",
   "metadata": {},
   "outputs": [],
   "source": [
    "df.reset_index(inplace=True)"
   ]
  },
  {
   "cell_type": "code",
   "execution_count": 109,
   "id": "1418a4e3",
   "metadata": {},
   "outputs": [],
   "source": [
    "df[\"Sentence #\"]=df.index+1"
   ]
  },
  {
   "cell_type": "code",
   "execution_count": 110,
   "id": "05aac11e",
   "metadata": {},
   "outputs": [
    {
     "data": {
      "text/html": [
       "<div>\n",
       "<style scoped>\n",
       "    .dataframe tbody tr th:only-of-type {\n",
       "        vertical-align: middle;\n",
       "    }\n",
       "\n",
       "    .dataframe tbody tr th {\n",
       "        vertical-align: top;\n",
       "    }\n",
       "\n",
       "    .dataframe thead th {\n",
       "        text-align: right;\n",
       "    }\n",
       "</style>\n",
       "<table border=\"1\" class=\"dataframe\">\n",
       "  <thead>\n",
       "    <tr style=\"text-align: right;\">\n",
       "      <th></th>\n",
       "      <th>Sentence #</th>\n",
       "      <th>clean</th>\n",
       "      <th>Word</th>\n",
       "      <th>Tags</th>\n",
       "    </tr>\n",
       "  </thead>\n",
       "  <tbody>\n",
       "    <tr>\n",
       "      <th>0</th>\n",
       "      <td>1</td>\n",
       "      <td>Recent progress in the diagnosis and treatment...</td>\n",
       "      <td>[Recent, progress, diagnosis, treatment, ovari...</td>\n",
       "      <td>[O, O, O, O, O, O, O, O, O, O, O, O, O, O, O, ...</td>\n",
       "    </tr>\n",
       "    <tr>\n",
       "      <th>1</th>\n",
       "      <td>2</td>\n",
       "      <td>Armstrong MD  2  Abstract Epithelial ovarian c...</td>\n",
       "      <td>[Armstrong, MD, 2, Abstract, Epithelial, ovari...</td>\n",
       "      <td>[O, O, O, O, O, O, O, O, O, O, O, O, O, O, O, ...</td>\n",
       "    </tr>\n",
       "    <tr>\n",
       "      <th>2</th>\n",
       "      <td>3</td>\n",
       "      <td>Screening strategies using ultrasound and the ...</td>\n",
       "      <td>[Screening, strategies, using, ultrasound, can...</td>\n",
       "      <td>[O, O, O, O, O, O, O, O, O, O, O, O, O, O, O, ...</td>\n",
       "    </tr>\n",
       "    <tr>\n",
       "      <th>3</th>\n",
       "      <td>4</td>\n",
       "      <td>Women  who have inherited a deleterious mutati...</td>\n",
       "      <td>[Women, inherited, deleterious, mutation, BRCA...</td>\n",
       "      <td>[O, O, O, O, O, O, O, O, O, O, O, O, O, O, O, ...</td>\n",
       "    </tr>\n",
       "    <tr>\n",
       "      <th>4</th>\n",
       "      <td>5</td>\n",
       "      <td>Other less common and less welldefined genetic...</td>\n",
       "      <td>[Other, less, common, less, welldefined, genet...</td>\n",
       "      <td>[O, O, O, O, O, O, O, O, O, O, O, O, O, O, O, O]</td>\n",
       "    </tr>\n",
       "  </tbody>\n",
       "</table>\n",
       "</div>"
      ],
      "text/plain": [
       "   Sentence #                                              clean  \\\n",
       "0           1  Recent progress in the diagnosis and treatment...   \n",
       "1           2  Armstrong MD  2  Abstract Epithelial ovarian c...   \n",
       "2           3  Screening strategies using ultrasound and the ...   \n",
       "3           4  Women  who have inherited a deleterious mutati...   \n",
       "4           5  Other less common and less welldefined genetic...   \n",
       "\n",
       "                                                Word  \\\n",
       "0  [Recent, progress, diagnosis, treatment, ovari...   \n",
       "1  [Armstrong, MD, 2, Abstract, Epithelial, ovari...   \n",
       "2  [Screening, strategies, using, ultrasound, can...   \n",
       "3  [Women, inherited, deleterious, mutation, BRCA...   \n",
       "4  [Other, less, common, less, welldefined, genet...   \n",
       "\n",
       "                                                Tags  \n",
       "0  [O, O, O, O, O, O, O, O, O, O, O, O, O, O, O, ...  \n",
       "1  [O, O, O, O, O, O, O, O, O, O, O, O, O, O, O, ...  \n",
       "2  [O, O, O, O, O, O, O, O, O, O, O, O, O, O, O, ...  \n",
       "3  [O, O, O, O, O, O, O, O, O, O, O, O, O, O, O, ...  \n",
       "4   [O, O, O, O, O, O, O, O, O, O, O, O, O, O, O, O]  "
      ]
     },
     "execution_count": 110,
     "metadata": {},
     "output_type": "execute_result"
    }
   ],
   "source": [
    "df.head()"
   ]
  },
  {
   "cell_type": "code",
   "execution_count": 111,
   "id": "d49fe84c",
   "metadata": {},
   "outputs": [],
   "source": [
    "df.drop(\"clean\",axis=1,inplace=True)"
   ]
  },
  {
   "cell_type": "code",
   "execution_count": 112,
   "id": "283a64d5",
   "metadata": {},
   "outputs": [],
   "source": [
    "df=df.apply(lambda x: x.explode() if x.name in [\"Word\",\"Tags\"] else x)"
   ]
  },
  {
   "cell_type": "code",
   "execution_count": 113,
   "id": "8f26b1e0",
   "metadata": {},
   "outputs": [
    {
     "data": {
      "text/html": [
       "<div>\n",
       "<style scoped>\n",
       "    .dataframe tbody tr th:only-of-type {\n",
       "        vertical-align: middle;\n",
       "    }\n",
       "\n",
       "    .dataframe tbody tr th {\n",
       "        vertical-align: top;\n",
       "    }\n",
       "\n",
       "    .dataframe thead th {\n",
       "        text-align: right;\n",
       "    }\n",
       "</style>\n",
       "<table border=\"1\" class=\"dataframe\">\n",
       "  <thead>\n",
       "    <tr style=\"text-align: right;\">\n",
       "      <th></th>\n",
       "      <th>Sentence #</th>\n",
       "      <th>Word</th>\n",
       "      <th>Tags</th>\n",
       "    </tr>\n",
       "  </thead>\n",
       "  <tbody>\n",
       "    <tr>\n",
       "      <th>0</th>\n",
       "      <td>1</td>\n",
       "      <td>Recent</td>\n",
       "      <td>O</td>\n",
       "    </tr>\n",
       "    <tr>\n",
       "      <th>0</th>\n",
       "      <td>1</td>\n",
       "      <td>progress</td>\n",
       "      <td>O</td>\n",
       "    </tr>\n",
       "    <tr>\n",
       "      <th>0</th>\n",
       "      <td>1</td>\n",
       "      <td>diagnosis</td>\n",
       "      <td>O</td>\n",
       "    </tr>\n",
       "    <tr>\n",
       "      <th>0</th>\n",
       "      <td>1</td>\n",
       "      <td>treatment</td>\n",
       "      <td>O</td>\n",
       "    </tr>\n",
       "    <tr>\n",
       "      <th>0</th>\n",
       "      <td>1</td>\n",
       "      <td>ovarian</td>\n",
       "      <td>O</td>\n",
       "    </tr>\n",
       "  </tbody>\n",
       "</table>\n",
       "</div>"
      ],
      "text/plain": [
       "   Sentence #       Word Tags\n",
       "0           1     Recent    O\n",
       "0           1   progress    O\n",
       "0           1  diagnosis    O\n",
       "0           1  treatment    O\n",
       "0           1    ovarian    O"
      ]
     },
     "execution_count": 113,
     "metadata": {},
     "output_type": "execute_result"
    }
   ],
   "source": [
    "df.head()"
   ]
  },
  {
   "cell_type": "code",
   "execution_count": 114,
   "id": "1898cae7",
   "metadata": {},
   "outputs": [],
   "source": [
    "df[\"POS\"]=df[\"Word\"].apply(lambda x:Sentence(str(x)).pos_tagged_tokens[0][1])"
   ]
  },
  {
   "cell_type": "code",
   "execution_count": 115,
   "id": "698c8e2b",
   "metadata": {},
   "outputs": [
    {
     "data": {
      "text/html": [
       "<div>\n",
       "<style scoped>\n",
       "    .dataframe tbody tr th:only-of-type {\n",
       "        vertical-align: middle;\n",
       "    }\n",
       "\n",
       "    .dataframe tbody tr th {\n",
       "        vertical-align: top;\n",
       "    }\n",
       "\n",
       "    .dataframe thead th {\n",
       "        text-align: right;\n",
       "    }\n",
       "</style>\n",
       "<table border=\"1\" class=\"dataframe\">\n",
       "  <thead>\n",
       "    <tr style=\"text-align: right;\">\n",
       "      <th></th>\n",
       "      <th>Sentence #</th>\n",
       "      <th>Word</th>\n",
       "      <th>Tags</th>\n",
       "      <th>POS</th>\n",
       "    </tr>\n",
       "  </thead>\n",
       "  <tbody>\n",
       "    <tr>\n",
       "      <th>0</th>\n",
       "      <td>1</td>\n",
       "      <td>Recent</td>\n",
       "      <td>O</td>\n",
       "      <td>JJ</td>\n",
       "    </tr>\n",
       "    <tr>\n",
       "      <th>0</th>\n",
       "      <td>1</td>\n",
       "      <td>progress</td>\n",
       "      <td>O</td>\n",
       "      <td>NN</td>\n",
       "    </tr>\n",
       "    <tr>\n",
       "      <th>0</th>\n",
       "      <td>1</td>\n",
       "      <td>diagnosis</td>\n",
       "      <td>O</td>\n",
       "      <td>NN</td>\n",
       "    </tr>\n",
       "    <tr>\n",
       "      <th>0</th>\n",
       "      <td>1</td>\n",
       "      <td>treatment</td>\n",
       "      <td>O</td>\n",
       "      <td>NN</td>\n",
       "    </tr>\n",
       "    <tr>\n",
       "      <th>0</th>\n",
       "      <td>1</td>\n",
       "      <td>ovarian</td>\n",
       "      <td>O</td>\n",
       "      <td>JJ</td>\n",
       "    </tr>\n",
       "  </tbody>\n",
       "</table>\n",
       "</div>"
      ],
      "text/plain": [
       "   Sentence #       Word Tags POS\n",
       "0           1     Recent    O  JJ\n",
       "0           1   progress    O  NN\n",
       "0           1  diagnosis    O  NN\n",
       "0           1  treatment    O  NN\n",
       "0           1    ovarian    O  JJ"
      ]
     },
     "execution_count": 115,
     "metadata": {},
     "output_type": "execute_result"
    }
   ],
   "source": [
    "df.head()"
   ]
  },
  {
   "cell_type": "code",
   "execution_count": 116,
   "id": "eb47e761",
   "metadata": {},
   "outputs": [],
   "source": [
    "df.to_excel(\"FinalDataset4.xlsx\")"
   ]
  }
 ],
 "metadata": {
  "kernelspec": {
   "display_name": "Python 3",
   "language": "python",
   "name": "python3"
  },
  "language_info": {
   "codemirror_mode": {
    "name": "ipython",
    "version": 3
   },
   "file_extension": ".py",
   "mimetype": "text/x-python",
   "name": "python",
   "nbconvert_exporter": "python",
   "pygments_lexer": "ipython3",
   "version": "3.8.8"
  }
 },
 "nbformat": 4,
 "nbformat_minor": 5
}
